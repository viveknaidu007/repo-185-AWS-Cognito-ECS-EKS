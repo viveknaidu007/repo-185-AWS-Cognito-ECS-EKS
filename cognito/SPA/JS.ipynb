{
 "cells": [
  {
   "cell_type": "markdown",
   "metadata": {},
   "source": [
    "Add the example code to your application\n",
    "\n",
    "1\n",
    "Configure your user pool app client with allowed callback URLs, logout URLs, and the scopes that you want to request, for example openid and profile. Learn more \n",
    "\n",
    "2\n",
    "Install the oidc-client-ts  library."
   ]
  },
  {
   "cell_type": "code",
   "execution_count": null,
   "metadata": {
    "vscode": {
     "languageId": "plaintext"
    }
   },
   "outputs": [],
   "source": [
    "npm install oidc-client-ts --save"
   ]
  },
  {
   "cell_type": "markdown",
   "metadata": {
    "vscode": {
     "languageId": "plaintext"
    }
   },
   "source": [
    "3\n",
    "Configure oidc-client-ts with the OIDC properties of your user pool."
   ]
  },
  {
   "cell_type": "code",
   "execution_count": null,
   "metadata": {
    "vscode": {
     "languageId": "plaintext"
    }
   },
   "outputs": [],
   "source": [
    "import { UserManager } from 'oidc-client-ts';\n",
    "\n",
    "const cognitoAuthConfig = {\n",
    "    authority: \"https://cognito-idp.us-east-2.amazonaws.com/us-east-2_xDeUVi8jN\",\n",
    "    client_id: \"3mdu5ru2qr073mt3o39tc7d1ev\",\n",
    "    redirect_uri: \"https://dashboard\",\n",
    "    response_type: \"code\",\n",
    "    scope: \"phone openid email\"\n",
    "};\n",
    "\n",
    "// create a UserManager instance\n",
    "export const userManager = new UserManager({\n",
    "    ...cognitoAuthConfig,\n",
    "});\n",
    "\n",
    "export async function signOutRedirect () {\n",
    "    const clientId = \"3mdu5ru2qr073mt3o39tc7d1ev\";\n",
    "    const logoutUri = \"<logout uri>\";\n",
    "    const cognitoDomain = \"https://<user pool domain>\";\n",
    "    window.location.href = `${cognitoDomain}/logout?client_id=${clientId}&logout_uri=${encodeURIComponent(logoutUri)}`;\n",
    "};"
   ]
  },
  {
   "cell_type": "markdown",
   "metadata": {
    "vscode": {
     "languageId": "plaintext"
    }
   },
   "source": [
    "4\n",
    "Generate a sign-in button that initiates an authorization request with your user pool OIDC provider."
   ]
  },
  {
   "cell_type": "code",
   "execution_count": null,
   "metadata": {
    "vscode": {
     "languageId": "plaintext"
    }
   },
   "outputs": [],
   "source": [
    "// add sign-in button\n",
    "<div>\n",
    "    <button id=\"signIn\">Sign In</button>\n",
    "</div>\n",
    "\n",
    "<script type=\"module\">\n",
    "    import { userManager } from \"./main.js\";\n",
    "\n",
    "    document.getElementById(\"signIn\").addEventListener(\"click\", async () => {\n",
    "        await userManager.signinRedirect();\n",
    "    });\n",
    "</script>"
   ]
  },
  {
   "cell_type": "markdown",
   "metadata": {},
   "source": [
    "5\n",
    "Set up a callback handler at the redirect_uri route. A successful sign-in produces a user object with ID, access, and refresh tokens."
   ]
  },
  {
   "cell_type": "code",
   "execution_count": null,
   "metadata": {
    "vscode": {
     "languageId": "plaintext"
    }
   },
   "outputs": [],
   "source": [
    "<div>\n",
    "    Hello: <pre id=\"email\"></pre>\n",
    "    Access token: <pre id=\"access-token\"></pre>\n",
    "    ID token: <pre id=\"id-token\"></pre>\n",
    "    Refresh token: <pre id=\"refresh-token\"></pre>\n",
    "</div>\n",
    "\n",
    "<script type=\"module\">\n",
    "    import { userManager } from \"./main.js\";\n",
    "\n",
    "    userManager.signinCallback().then(function (user) {\n",
    "        document.getElementById(\"email\").textContent = user.profile?.email;\n",
    "        document.getElementById(\"access-token\").textContent = user.access_token;\n",
    "        document.getElementById(\"id-token\").textContent = user.id_token;\n",
    "        document.getElementById(\"refresh-token\").textContent = user.refresh_token;\n",
    "    });\n",
    "</script>"
   ]
  },
  {
   "cell_type": "markdown",
   "metadata": {},
   "source": [
    "6\n",
    "Generate a sign-out button that redirects to the logout endpoint of your user pool."
   ]
  },
  {
   "cell_type": "code",
   "execution_count": null,
   "metadata": {
    "vscode": {
     "languageId": "plaintext"
    }
   },
   "outputs": [],
   "source": [
    "// add sign-out button\n",
    "<div>\n",
    "    <button id=\"signOut\">Log out</button>\n",
    "</div>\n",
    "\n",
    "<script type=\"module\">\n",
    "    import { signOutRedirect } from \"./main.js\";\n",
    "\n",
    "    document.getElementById(\"signOut\").addEventListener(\"click\", async () => {\n",
    "        await signOutRedirect();\n",
    "    });\n",
    "</script>"
   ]
  }
 ],
 "metadata": {
  "language_info": {
   "name": "python"
  }
 },
 "nbformat": 4,
 "nbformat_minor": 2
}
