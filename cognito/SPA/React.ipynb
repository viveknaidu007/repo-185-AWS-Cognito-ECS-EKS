{
 "cells": [
  {
   "cell_type": "markdown",
   "metadata": {},
   "source": [
    "Add the example code to your application\n",
    "\n",
    "1\n",
    "Configure your user pool app client with allowed callback URLs, logout URLs, and the scopes that you want to request, for example openid and profile. Learn more \n",
    "\n",
    "2\n",
    "Install the oidc-client-ts  and react-oidc-context  libraries."
   ]
  },
  {
   "cell_type": "code",
   "execution_count": null,
   "metadata": {
    "vscode": {
     "languageId": "plaintext"
    }
   },
   "outputs": [],
   "source": [
    "npm install oidc-client-ts react-oidc-context --save"
   ]
  },
  {
   "cell_type": "markdown",
   "metadata": {
    "vscode": {
     "languageId": "plaintext"
    }
   },
   "source": [
    "3\n",
    "Configure react-oidc-context with the OIDC properties of your user pool."
   ]
  },
  {
   "cell_type": "code",
   "execution_count": null,
   "metadata": {
    "vscode": {
     "languageId": "plaintext"
    }
   },
   "outputs": [],
   "source": [
    "// index.js\n",
    "import { AuthProvider } from \"react-oidc-context\";\n",
    "\n",
    "const cognitoAuthConfig = {\n",
    "  authority: \"https://cognito-idp.us-east-2.amazonaws.com/us-east-2_xDeUVi8jN\",\n",
    "  client_id: \"3mdu5ru2qr073mt3o39tc7d1ev\",\n",
    "  redirect_uri: \"https://dashboard\",\n",
    "  response_type: \"code\",\n",
    "  scope: \"phone openid email\",\n",
    "};\n",
    "\n",
    "const root = ReactDOM.createRoot(document.getElementById(\"root\"));\n",
    "\n",
    "// wrap the application with AuthProvider\n",
    "root.render(\n",
    "  <React.StrictMode>\n",
    "    <AuthProvider {...cognitoAuthConfig}>\n",
    "      <App />\n",
    "    </AuthProvider>\n",
    "  </React.StrictMode>\n",
    ");"
   ]
  },
  {
   "cell_type": "markdown",
   "metadata": {
    "vscode": {
     "languageId": "plaintext"
    }
   },
   "source": [
    "4\n",
    "Generate a sign-in button that initiates an authorization request with your user pool OIDC provider, and a sign-out button that initiates a logout request."
   ]
  },
  {
   "cell_type": "code",
   "execution_count": null,
   "metadata": {
    "vscode": {
     "languageId": "plaintext"
    }
   },
   "outputs": [],
   "source": [
    "// App.js\n",
    "\n",
    "import { useAuth } from \"react-oidc-context\";\n",
    "\n",
    "function App() {\n",
    "  const auth = useAuth();\n",
    "\n",
    "  const signOutRedirect = () => {\n",
    "    const clientId = \"3mdu5ru2qr073mt3o39tc7d1ev\";\n",
    "    const logoutUri = \"<logout uri>\";\n",
    "    const cognitoDomain = \"https://<user pool domain>\";\n",
    "    window.location.href = `${cognitoDomain}/logout?client_id=${clientId}&logout_uri=${encodeURIComponent(logoutUri)}`;\n",
    "  };\n",
    "\n",
    "  if (auth.isLoading) {\n",
    "    return <div>Loading...</div>;\n",
    "  }\n",
    "\n",
    "  if (auth.error) {\n",
    "    return <div>Encountering error... {auth.error.message}</div>;\n",
    "  }\n",
    "\n",
    "  if (auth.isAuthenticated) {\n",
    "    return (\n",
    "      <div>\n",
    "        <pre> Hello: {auth.user?.profile.email} </pre>\n",
    "        <pre> ID Token: {auth.user?.id_token} </pre>\n",
    "        <pre> Access Token: {auth.user?.access_token} </pre>\n",
    "        <pre> Refresh Token: {auth.user?.refresh_token} </pre>\n",
    "\n",
    "        <button onClick={() => auth.removeUser()}>Sign out</button>\n",
    "      </div>\n",
    "    );\n",
    "  }\n",
    "\n",
    "  return (\n",
    "    <div>\n",
    "      <button onClick={() => auth.signinRedirect()}>Sign in</button>\n",
    "      <button onClick={() => signOutRedirect()}>Sign out</button>\n",
    "    </div>\n",
    "  );\n",
    "}\n",
    "  \n",
    "export default App;"
   ]
  }
 ],
 "metadata": {
  "language_info": {
   "name": "python"
  }
 },
 "nbformat": 4,
 "nbformat_minor": 2
}
