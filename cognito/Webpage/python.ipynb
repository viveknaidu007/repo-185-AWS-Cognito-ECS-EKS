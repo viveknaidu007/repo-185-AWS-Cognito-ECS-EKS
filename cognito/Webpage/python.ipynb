{
 "cells": [
  {
   "cell_type": "markdown",
   "metadata": {},
   "source": [
    "Add the example code to your application\n",
    "\n",
    "1\n",
    "Configure your user pool app client with allowed callback URLs, logout URLs, and the scopes that you want to request, for example openid and profile. Learn more \n",
    "\n",
    "2\n",
    "Install the authlib  library."
   ]
  },
  {
   "cell_type": "code",
   "execution_count": null,
   "metadata": {
    "vscode": {
     "languageId": "plaintext"
    }
   },
   "outputs": [],
   "source": [
    "pip install authlib werkzeug flask requests"
   ]
  },
  {
   "cell_type": "markdown",
   "metadata": {},
   "source": [
    "3\n",
    "Add and configure the authlib OAuth component."
   ]
  },
  {
   "cell_type": "code",
   "execution_count": null,
   "metadata": {
    "vscode": {
     "languageId": "plaintext"
    }
   },
   "outputs": [],
   "source": [
    "from flask import Flask, redirect, url_for, session\n",
    "from authlib.integrations.flask_client import OAuth\n",
    "import os\n",
    " \n",
    "app = Flask(__name__)\n",
    "app.secret_key = os.urandom(24)  # Use a secure random key in production\n",
    "oauth = OAuth(app)\n",
    "\n",
    "oauth.register(\n",
    "  name='oidc',\n",
    "  authority='https://cognito-idp.us-east-2.amazonaws.com/us-east-2_eurel0TFX',\n",
    "  client_id='638bt1ru33a9489bv8ai066kb4',\n",
    "  client_secret='<client secret>',\n",
    "  server_metadata_url='https://cognito-idp.us-east-2.amazonaws.com/us-east-2_eurel0TFX/.well-known/openid-configuration',\n",
    "  client_kwargs={'scope': 'phone openid email'}\n",
    ")"
   ]
  },
  {
   "cell_type": "markdown",
   "metadata": {},
   "source": [
    "4\n",
    "Add a home page with links to login and logout routes."
   ]
  },
  {
   "cell_type": "code",
   "execution_count": null,
   "metadata": {
    "vscode": {
     "languageId": "plaintext"
    }
   },
   "outputs": [],
   "source": [
    "@app.route('/')\n",
    "def index():\n",
    "    user = session.get('user')\n",
    "    if user:\n",
    "        return  f'Hello, {user[\"email\"]}. <a href=\"/logout\">Logout</a>'\n",
    "    else:\n",
    "        return f'Welcome! Please <a href=\"/login\">Login</a>.'"
   ]
  },
  {
   "cell_type": "markdown",
   "metadata": {},
   "source": [
    "5\n",
    "Configure a login route to direct to Amazon Cognito managed login for authentication with a redirect to an authorize route.\n",
    "\n"
   ]
  },
  {
   "cell_type": "code",
   "execution_count": null,
   "metadata": {
    "vscode": {
     "languageId": "plaintext"
    }
   },
   "outputs": [],
   "source": [
    "@app.route('/login')\n",
    "def login():\n",
    "    # Alternate option to redirect to /authorize\n",
    "    # redirect_uri = url_for('authorize', _external=True)\n",
    "    # return oauth.oidc.authorize_redirect(redirect_uri)\n",
    "    return oauth.oidc.authorize_redirect('https://dashboard')"
   ]
  },
  {
   "cell_type": "markdown",
   "metadata": {},
   "source": [
    "6\n",
    "The OAuth module collects the access token and retrieves user data from the Amazon Cognito userInfo endpoint. Configure an authorize route to handle the access token and user data after authentication."
   ]
  },
  {
   "cell_type": "code",
   "execution_count": null,
   "metadata": {
    "vscode": {
     "languageId": "plaintext"
    }
   },
   "outputs": [],
   "source": [
    "@app.route('/authorize')\n",
    "def authorize():\n",
    "    token = oauth.oidc.authorize_access_token()\n",
    "    user = token['userinfo']\n",
    "    session['user'] = user\n",
    "    return redirect(url_for('index'))"
   ]
  },
  {
   "cell_type": "markdown",
   "metadata": {},
   "source": [
    "7\n",
    "Configure a logout route that erases user session data."
   ]
  },
  {
   "cell_type": "code",
   "execution_count": null,
   "metadata": {
    "vscode": {
     "languageId": "plaintext"
    }
   },
   "outputs": [],
   "source": [
    "@app.route('/logout')\n",
    "def logout():\n",
    "    session.pop('user', None)\n",
    "    return redirect(url_for('index'))\n",
    "\n",
    "if __name__ == '__main__':\n",
    "    app.run(debug=True)"
   ]
  }
 ],
 "metadata": {
  "language_info": {
   "name": "python"
  }
 },
 "nbformat": 4,
 "nbformat_minor": 2
}
